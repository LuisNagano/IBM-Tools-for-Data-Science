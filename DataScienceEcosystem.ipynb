{
 "cells": [
  {
   "cell_type": "markdown",
   "id": "fa9602ec-a531-46c4-a943-c35f4f7c5cbc",
   "metadata": {},
   "source": [
    "# Data Science Tools and Ecosystem"
   ]
  },
  {
   "cell_type": "markdown",
   "id": "5e9c23a9-c4f6-4376-9b42-65c7d32cbd8f",
   "metadata": {},
   "source": [
    "### In this notebook, Data Science Tools and Ecosystem are summarized"
   ]
  },
  {
   "cell_type": "markdown",
   "id": "dc679815-1dc6-4c87-9362-df63ef83d8f9",
   "metadata": {
    "tags": []
   },
   "source": [
    "__Objectives:__\n",
    "- List popular languages for Data Science\n",
    "- List libraries for Data Science \n",
    "- Data Science Tools"
   ]
  },
  {
   "cell_type": "markdown",
   "id": "829ba98c-60e9-4c80-9a89-e505c478cb82",
   "metadata": {},
   "source": [
    "### Some of the popular languages that Data Scientists use are:\n",
    "\n",
    "- Python\n",
    "- R\n",
    "- SQL"
   ]
  },
  {
   "cell_type": "markdown",
   "id": "eb29d634-1c84-4390-8d4a-6331bd94b266",
   "metadata": {
    "tags": []
   },
   "source": [
    "### Some of the commonly used libraries used by Data Scientists include:\n",
    "\n",
    "- Keras\n",
    "- Numpy\n",
    "- Pandas\n",
    "- TensorFlow"
   ]
  },
  {
   "cell_type": "markdown",
   "id": "686f591d-830c-463e-a36b-5630a7d66f41",
   "metadata": {},
   "source": [
    "| Data Science Tools |\n",
    "| ------------------ |\n",
    "| Hadoop             |\n",
    "| Spark              |\n",
    "| Jupyter Notebooks  |"
   ]
  },
  {
   "cell_type": "markdown",
   "id": "9d342993-6704-4183-8fcd-3a3ee9d32969",
   "metadata": {
    "tags": []
   },
   "source": [
    "### Below are a few examples of evaluating arithmetic expressions in Python:"
   ]
  },
  {
   "cell_type": "code",
   "execution_count": 3,
   "id": "f5014ab3-4fc3-48ea-975e-21c5448d2d9b",
   "metadata": {
    "tags": []
   },
   "outputs": [
    {
     "data": {
      "text/plain": [
       "17"
      ]
     },
     "execution_count": 3,
     "metadata": {},
     "output_type": "execute_result"
    }
   ],
   "source": [
    "# This a simple arithmetic expression to mutiply then add integers\n",
    "(3*4)+5"
   ]
  },
  {
   "cell_type": "code",
   "execution_count": 4,
   "id": "bd847774-7dce-4d8c-a36c-1fd8ceac1a9a",
   "metadata": {
    "tags": []
   },
   "outputs": [
    {
     "data": {
      "text/plain": [
       "3.3333333333333335"
      ]
     },
     "execution_count": 4,
     "metadata": {},
     "output_type": "execute_result"
    }
   ],
   "source": [
    "# This will convert 200 minutes to hours by diving by 60\n",
    "200 / 60"
   ]
  },
  {
   "cell_type": "markdown",
   "id": "0dbdc544-038d-4f5b-93e3-3e8415fc5fae",
   "metadata": {},
   "source": [
    "## Author: Luis Nagano"
   ]
  }
 ],
 "metadata": {
  "kernelspec": {
   "display_name": "Python 3 (ipykernel)",
   "language": "python",
   "name": "python3"
  },
  "language_info": {
   "codemirror_mode": {
    "name": "ipython",
    "version": 3
   },
   "file_extension": ".py",
   "mimetype": "text/x-python",
   "name": "python",
   "nbconvert_exporter": "python",
   "pygments_lexer": "ipython3",
   "version": "3.11.5"
  }
 },
 "nbformat": 4,
 "nbformat_minor": 5
}
